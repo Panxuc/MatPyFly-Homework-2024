{
 "cells": [
  {
   "attachments": {},
   "cell_type": "markdown",
   "metadata": {},
   "source": [
    "### 练习 2\n",
    "\n",
    "在本次练习中，我们将生成一个字符图像数据集，以供之后的相似图像识别任务使用。\n",
    "\n",
    "##### 要求\n",
    "\n",
    "给定字符集，其中十六进制的Unicode字符编码为0x0021~0x007E、0x00A1~0x00AC、0x00AE~0x0377、0x037A~0x037F、0x0384~0x038A、0x038C~0x038C、0x038E~0x052F，对每个字符生成一张尺寸为48x48的JPEG格式图像（文件后缀名为.jpeg或.jpg），黑底白字，字符居中并大小适宜。示例如下：\n",
    "\n",
    "![fig](./fig.png)\n",
    "\n",
    "##### 提示\n",
    "\n",
    "可以查询 python 的图像处理库 pillow 的文档，了解如何创建空白图像、在图像上绘制文字。https://pillow.readthedocs.io/en/stable/。\n",
    "\n",
    "##### 参考框架\n",
    "\n",
    "可以参考如下框架，并填写其中的 TODO 部分。\n"
   ]
  },
  {
   "cell_type": "code",
   "execution_count": 1,
   "metadata": {},
   "outputs": [],
   "source": [
    "import os\n",
    "\n",
    "from PIL import Image, ImageDraw, ImageFont\n",
    "\n",
    "# 字符集\n",
    "chars = [\n",
    "    range(0x0021, 0x007E + 1),\n",
    "    range(0x00A1, 0x00AC + 1),\n",
    "    range(0x00AE, 0x0377 + 1),\n",
    "    range(0x037A, 0x037F + 1),\n",
    "    range(0x0384, 0x038A + 1),\n",
    "    range(0x038C, 0x038C + 1),\n",
    "    range(0x038E, 0x052F + 1),\n",
    "]\n",
    "# TODO: 将chars中的range展开为一维数组：[33,34,...]\n",
    "chars = [char for char_range in chars for char in char_range]\n",
    "\n",
    "# 图像尺寸\n",
    "image_size = 48\n",
    "# 图像中心\n",
    "pos = (image_size // 2,) * 2\n",
    "# 字体\n",
    "font = ImageFont.truetype(\"arial.ttf\", 32)\n",
    "\n",
    "# 创建输出文件夹\n",
    "os.makedirs(\"data\", exist_ok=True)\n",
    "\n",
    "for char in chars:\n",
    "    # TODO: 使用Image.new创建图像\n",
    "    img = Image.new(\"RGB\", (image_size, image_size), \"black\")\n",
    "\n",
    "    # TODO: 使用ImageDraw绘制文字\n",
    "    draw = ImageDraw.Draw(img)\n",
    "    draw.text(pos, chr(char), \"white\", font, anchor=\"mm\")\n",
    "\n",
    "    # TODO: 使用模板字符串写保存文件名\n",
    "    img.save(f\"data/0x{char:04X}.jpg\")"
   ]
  }
 ],
 "metadata": {
  "kernelspec": {
   "display_name": "Python 3",
   "language": "python",
   "name": "python3"
  },
  "language_info": {
   "codemirror_mode": {
    "name": "ipython",
    "version": 3
   },
   "file_extension": ".py",
   "mimetype": "text/x-python",
   "name": "python",
   "nbconvert_exporter": "python",
   "pygments_lexer": "ipython3",
   "version": "3.12.0"
  },
  "orig_nbformat": 4,
  "vscode": {
   "interpreter": {
    "hash": "5ff187f48c898aaa9535692ba3afa361364e4b0957477ac51f7e5a035efb4944"
   }
  }
 },
 "nbformat": 4,
 "nbformat_minor": 2
}
