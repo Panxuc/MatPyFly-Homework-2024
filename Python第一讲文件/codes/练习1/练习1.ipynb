{
 "cells": [
  {
   "attachments": {},
   "cell_type": "markdown",
   "metadata": {},
   "source": [
    "#### 1 两数和\n",
    "\n",
    "题目见 https://leetcode-cn.com/problems/two-sum/ ，可以在这个上面将编程语言选择为 `Python3` 并提交验证自己的代码。\n",
    "\n",
    "> **注：LeetCode 使用说明**\n",
    ">\n",
    "> 1. 语言选择 `Python3` 而不是 `Python`!\n",
    "> 2. 题目所带的模板不要删，只用实现 `Solution` 类的成员函数即可。无需用 `input`/`print` 处理输入输出，而是直接 return 结果。评测时系统会直接初始化一个 `Solution` 对象然后调用对应的函数进行测试。\n",
    "> 3. 题目中函数签名 `def twoSum(self, nums: List[int], target: int) -> List[int]:` 中的类似 `: List[int]`, `: int` 的写法是 Python 中用于描述函数参数和返回值类型的语法，无需进行改动。\n",
    ">    - 想要深入了解 Python 类型提示的同学可以参考 [PEP 484](https://www.python.org/dev/peps/pep-0484/) 和 [PEP 526](https://www.python.org/dev/peps/pep-0526/)。\n",
    "\n",
    "#### 2 字符串压缩\n",
    "\n",
    "题目见 https://leetcode-cn.com/problems/compress-string-lcci/\n",
    "\n",
    "#### 3 文件读写\n",
    "\n",
    "读取附件中的 `dec.txt` 文件,读取文件各行**十进制数据** `(x,y)`,并转化为 **8 位二进制补码**,输出到 `bin.txt` 文件中。\n",
    "\n",
    "> 关于补码的概念可以查看百度百科 https://baike.baidu.com/item/%E8%A1%A5%E7%A0%81/6854613 。\n",
    ">\n",
    "> 简单来说补码是一种表示正负数的方案，对于正数，补码直接表示即可，如 `5` 表示为 `00000101`，\n",
    ">\n",
    "> 对于负数，它的补码应该满足“和正数的补码相加为零”这一条件，比如 `-5` 表示为 `11111001`。\n",
    "\n",
    "例:\n",
    "\n",
    "---\n",
    "\n",
    "输入文件格式:\n",
    "\n",
    "(1,2)\n",
    "\n",
    "...\n",
    "\n",
    "(-3,4)\n",
    "\n",
    "---\n",
    "\n",
    "输出文件格式:\n",
    "\n",
    "(00000001,00000010)\n",
    "\n",
    "...\n",
    "\n",
    "(111111101,00000100)\n",
    "\n",
    "---\n",
    "\n",
    "> 提示：可以用 `bin()` 函数或者模板字符串完成数值到二进制的转换\n"
   ]
  },
  {
   "cell_type": "code",
   "execution_count": null,
   "metadata": {},
   "outputs": [],
   "source": [
    "class Solution:\n",
    "    def twoSum(self, nums: List[int], target: int) -> List[int]:\n",
    "        num_dict = {}\n",
    "        for i, num in enumerate(nums):\n",
    "            if target - num in num_dict:\n",
    "                return [num_dict[target - num], i]\n",
    "            num_dict[num] = i\n",
    "        return []"
   ]
  },
  {
   "cell_type": "code",
   "execution_count": null,
   "metadata": {},
   "outputs": [],
   "source": [
    "class Solution:\n",
    "    def compressString(self, S: str) -> str:\n",
    "        if not S:\n",
    "            return S\n",
    "        res = S[0]\n",
    "        count = 1\n",
    "        for i in range(1, len(S)):\n",
    "            if S[i] == S[i - 1]:\n",
    "                count += 1\n",
    "            else:\n",
    "                res += str(count) + S[i]\n",
    "                count = 1\n",
    "        res += str(count)\n",
    "        return res if len(res) < len(S) else S"
   ]
  },
  {
   "cell_type": "code",
   "execution_count": 5,
   "metadata": {},
   "outputs": [],
   "source": [
    "with open('dec.txt', 'r') as dec_f:\n",
    "    with open('bin.txt', 'w') as bin_f:\n",
    "        for line in dec_f:\n",
    "            x, y = map(int, line.strip('()\\n').split(','))\n",
    "            bin_x = bin(x)[2:].zfill(8) if x >= 0 else bin(x + 256)[2:].zfill(8)\n",
    "            bin_y = bin(y)[2:].zfill(8) if y >= 0 else bin(y + 256)[2:].zfill(8)\n",
    "            bin_f.write('(' + bin_x + ',' + bin_y + ')\\n')"
   ]
  }
 ],
 "metadata": {
  "kernelspec": {
   "display_name": "Python 3",
   "language": "python",
   "name": "python3"
  },
  "language_info": {
   "codemirror_mode": {
    "name": "ipython",
    "version": 3
   },
   "file_extension": ".py",
   "mimetype": "text/x-python",
   "name": "python",
   "nbconvert_exporter": "python",
   "pygments_lexer": "ipython3",
   "version": "3.12.0"
  },
  "orig_nbformat": 4,
  "vscode": {
   "interpreter": {
    "hash": "5ff187f48c898aaa9535692ba3afa361364e4b0957477ac51f7e5a035efb4944"
   }
  }
 },
 "nbformat": 4,
 "nbformat_minor": 2
}
