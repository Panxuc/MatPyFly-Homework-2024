{
 "cells": [
  {
   "cell_type": "markdown",
   "metadata": {
    "collapsed": false
   },
   "source": [
    "# NumPy 基础练习\n",
    "\n",
    "请你尝试使用学到的 NumPy 编程知识，解决如下问题。"
   ]
  },
  {
   "cell_type": "code",
   "execution_count": 49,
   "metadata": {
    "collapsed": false
   },
   "outputs": [],
   "source": [
    "import numpy as np"
   ]
  },
  {
   "cell_type": "markdown",
   "metadata": {
    "collapsed": false
   },
   "source": [
    "## 1. 文件读取，数组拼接，索引，类型转换，数组运算，数组创建，转置\n",
    "\n",
    "(1) 现有一个图像数据集，存放在 `images_0.npy` 和 `images_1.npy` 中。请你先分别读取图像数据，然后沿第 0 轴（batch 轴）将两组数据进行拼接，赋值给 `images` 变量，并打印 `images` 的数据类型和形状，以及像素取值的最大值和最小值。"
   ]
  },
  {
   "cell_type": "code",
   "execution_count": 50,
   "metadata": {
    "collapsed": false
   },
   "outputs": [
    {
     "name": "stdout",
     "output_type": "stream",
     "text": [
      "数据类型： uint8\n",
      "形状： (6, 16, 16, 3)\n",
      "最大值： 255\n",
      "最小值： 0\n"
     ]
    }
   ],
   "source": [
    "images_0 = np.load('images_0.npy')\n",
    "images_1 = np.load('images_1.npy')\n",
    "\n",
    "images = np.concatenate((images_0, images_1), axis=0)\n",
    "\n",
    "print('数据类型：', images.dtype)\n",
    "print('形状：', images.shape)\n",
    "print('最大值：', np.max(images))\n",
    "print('最小值：', np.min(images))"
   ]
  },
  {
   "cell_type": "markdown",
   "metadata": {
    "collapsed": false
   },
   "source": [
    "(2) 现在想要将 `images` 中的图像的尺寸（高度和宽度）减小一半。请你采用选取原图像中的偶数行和奇数列的方法缩减图像的尺寸。"
   ]
  },
  {
   "cell_type": "code",
   "execution_count": 51,
   "metadata": {
    "collapsed": false
   },
   "outputs": [],
   "source": [
    "images = images[1::2, ::2]"
   ]
  },
  {
   "cell_type": "markdown",
   "metadata": {
    "collapsed": false
   },
   "source": [
    "(3) 当前，图片像素的取值为 0\\~255。现在需要你对像素取值进行正规化，即将 0\\~255 映射到 -1\\~1。请注意类型转换！"
   ]
  },
  {
   "cell_type": "code",
   "execution_count": 52,
   "metadata": {
    "collapsed": false
   },
   "outputs": [],
   "source": [
    "images = (images / 255.0) * 2 - 1"
   ]
  },
  {
   "cell_type": "markdown",
   "metadata": {
    "collapsed": false
   },
   "source": [
    "(4) 现在，请你为图像的每一个像素分别加上在 $[-0.01, 0.01]$ 上均匀分布的噪声，但要求加入噪声后，像素取值仍要在 $[-1, 1]$ （超出部分需要截断）。"
   ]
  },
  {
   "cell_type": "code",
   "execution_count": 53,
   "metadata": {
    "collapsed": false
   },
   "outputs": [],
   "source": [
    "images += np.random.uniform(-0.01, 0.01, images.shape)\n",
    "images = np.clip(images, -1.0, 1.0)"
   ]
  },
  {
   "cell_type": "markdown",
   "metadata": {
    "collapsed": false
   },
   "source": [
    "(5) 请将图像中取值在 $[-0.1, 0.1]$ 的像素赋值为 0。"
   ]
  },
  {
   "cell_type": "code",
   "execution_count": 54,
   "metadata": {
    "collapsed": false
   },
   "outputs": [],
   "source": [
    "images[(images >= -0.1) & (images <= 0.1)] = 0"
   ]
  },
  {
   "cell_type": "markdown",
   "metadata": {
    "collapsed": false
   },
   "source": [
    "(6) 在 NumPy 中，图像数组的形状通常是 (batch, height, width, channel)，但在 PyTorch 中，图像张量的形状通常是 (batch, channel, height, width)。请你将当前图像数组按照 PyTorch 定义的维度顺序进行转换。"
   ]
  },
  {
   "cell_type": "code",
   "execution_count": 55,
   "metadata": {
    "collapsed": false
   },
   "outputs": [],
   "source": [
    "images = images.transpose(0, 3, 1, 2)"
   ]
  },
  {
   "cell_type": "markdown",
   "metadata": {
    "collapsed": false
   },
   "source": [
    "## 2. 矩阵、向量运算，数学函数\n",
    "\n",
    "已知旋转矩阵的定义为：\n",
    "\n",
    "$$\n",
    "\\mathbf M(\\theta )={\\begin{bmatrix}\\cos {\\theta }&-\\sin {\\theta }\\\\ \\sin {\\theta }&\\cos {\\theta }\\end{bmatrix}}\n",
    "$$\n",
    "\n",
    "向量 $\\boldsymbol x$ 经旋转矩阵 $\\mathbf M$ 作用后的向量为 $\\mathbf M \\boldsymbol x$。\n",
    "\n",
    "(1) 请你生成一个旋转角度 $\\theta = 30 \\degree$ 的旋转矩阵。"
   ]
  },
  {
   "cell_type": "code",
   "execution_count": 56,
   "metadata": {
    "collapsed": false
   },
   "outputs": [],
   "source": [
    "theta = np.radians(30)\n",
    "M = np.array([[np.cos(theta), -np.sin(theta)],\n",
    "              [np.sin(theta), np.cos(theta)]])"
   ]
  },
  {
   "cell_type": "markdown",
   "metadata": {
    "collapsed": false
   },
   "source": [
    "(2) 现有向量 $\\boldsymbol x = (1, 2)$。请计算经上一步旋转矩阵作用后的向量，以及旋转前后向量的模长。"
   ]
  },
  {
   "cell_type": "code",
   "execution_count": 57,
   "metadata": {
    "collapsed": false
   },
   "outputs": [
    {
     "name": "stdout",
     "output_type": "stream",
     "text": [
      "[-0.1339746   2.23205081]\n",
      "旋转前向量的模长： 2.23606797749979\n",
      "旋转后向量的模长： 2.2360679774997894\n"
     ]
    }
   ],
   "source": [
    "x = np.array([1, 2])\n",
    "\n",
    "Mx = np.dot(M, x)\n",
    "\n",
    "print(Mx)\n",
    "print(\"旋转前向量的模长：\", np.linalg.norm(x))\n",
    "print(\"旋转后向量的模长：\", np.linalg.norm(Mx))"
   ]
  }
 ],
 "metadata": {
  "kernelspec": {
   "display_name": "Python 3",
   "language": "python",
   "name": "python3"
  },
  "language_info": {
   "codemirror_mode": {
    "name": "ipython",
    "version": 3
   },
   "file_extension": ".py",
   "mimetype": "text/x-python",
   "name": "python",
   "nbconvert_exporter": "python",
   "pygments_lexer": "ipython3",
   "version": "3.12.0"
  }
 },
 "nbformat": 4,
 "nbformat_minor": 0
}
