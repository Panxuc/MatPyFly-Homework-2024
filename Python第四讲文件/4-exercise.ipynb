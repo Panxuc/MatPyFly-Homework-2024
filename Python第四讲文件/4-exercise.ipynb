{
  "cells": [
    {
      "cell_type": "code",
      "execution_count": 153,
      "metadata": {},
      "outputs": [],
      "source": [
        "import pandas as pd\n",
        "import matplotlib.pyplot as plt"
      ]
    },
    {
      "cell_type": "markdown",
      "metadata": {},
      "source": [
        "**注：除非特别说明，完成以下任务时不要使用numpy或任何其他的库，只使用pandas和matplotlib自带的功能**"
      ]
    },
    {
      "cell_type": "code",
      "execution_count": 154,
      "metadata": {},
      "outputs": [],
      "source": [
        "# 读取 data/score.xlsx 成绩单\n",
        "\n",
        "data = pd.read_excel('data/score.xlsx')"
      ]
    },
    {
      "cell_type": "code",
      "execution_count": 155,
      "metadata": {},
      "outputs": [
        {
          "name": "stdout",
          "output_type": "stream",
          "text": [
            "   学号 科目  成绩\n",
            "0   4  A  36\n",
            "1  36  A   0\n",
            "2  18  A   6\n",
            "3  59  A   0\n",
            "4  47  A  65\n"
          ]
        }
      ],
      "source": [
        "# 查看前5行数据\n",
        "\n",
        "print(data.head())"
      ]
    },
    {
      "cell_type": "code",
      "execution_count": 156,
      "metadata": {},
      "outputs": [
        {
          "name": "stdout",
          "output_type": "stream",
          "text": [
            "科目\n",
            "D    75\n",
            "C    73\n",
            "A    70\n",
            "E    69\n",
            "B    65\n",
            "Name: count, dtype: int64\n"
          ]
        }
      ],
      "source": [
        "# 计算每门课的人数\n",
        "\n",
        "course_count = data['科目'].value_counts()\n",
        "print(course_count)"
      ]
    },
    {
      "cell_type": "code",
      "execution_count": 157,
      "metadata": {},
      "outputs": [
        {
          "name": "stdout",
          "output_type": "stream",
          "text": [
            "科目\n",
            "A    32.742857\n",
            "B    43.107692\n",
            "C    43.863014\n",
            "D    40.360000\n",
            "E    59.072464\n",
            "Name: 成绩, dtype: float64\n"
          ]
        }
      ],
      "source": [
        "# 计算每门课的平均分\n",
        "\n",
        "course_mean = data.groupby('科目')['成绩'].mean()\n",
        "print(course_mean)"
      ]
    },
    {
      "cell_type": "code",
      "execution_count": 158,
      "metadata": {},
      "outputs": [
        {
          "name": "stdout",
          "output_type": "stream",
          "text": [
            "科目\n",
            "A    34.067999\n",
            "B    21.568295\n",
            "C    32.103701\n",
            "D    27.560077\n",
            "E    34.352977\n",
            "Name: 成绩, dtype: float64\n"
          ]
        }
      ],
      "source": [
        "# 计算每门课的分数标准差（自己思考应该使用哪一种计算方式并给出理由）\n",
        "\n",
        "course_std = data.groupby('科目')['成绩'].std()\n",
        "print(course_std)\n",
        "\n",
        "# 应该使用std()方法计算标准差"
      ]
    },
    {
      "cell_type": "code",
      "execution_count": 159,
      "metadata": {},
      "outputs": [
        {
          "name": "stdout",
          "output_type": "stream",
          "text": [
            "科目\n",
            "A    0.271429\n",
            "B    0.200000\n",
            "C    0.301370\n",
            "D    0.240000\n",
            "E    0.492754\n",
            "dtype: float64\n"
          ]
        }
      ],
      "source": [
        "# 计算每门课的及格率（分数≥60的人数除以该门课总人数）\n",
        "\n",
        "course_pass_rate = data[data['成绩'] >= 60].groupby('科目')['成绩'].count() / course_count\n",
        "print(course_pass_rate)"
      ]
    },
    {
      "cell_type": "code",
      "execution_count": 160,
      "metadata": {},
      "outputs": [
        {
          "name": "stdout",
          "output_type": "stream",
          "text": [
            "学号\n",
            "38    78.00\n",
            "17    76.75\n",
            "74    69.25\n",
            "79    68.80\n",
            "46    68.20\n",
            "16    67.80\n",
            "47    65.40\n",
            "69    64.75\n",
            "72    62.00\n",
            "70    61.50\n",
            "Name: 成绩, dtype: float64\n"
          ]
        }
      ],
      "source": [
        "# 计算每个学生的平均分，从高到低排序，显示前10名\n",
        "\n",
        "student_mean = data.groupby('学号')['成绩'].mean().sort_values(ascending=False)\n",
        "print(student_mean.head(10))"
      ]
    },
    {
      "cell_type": "code",
      "execution_count": 161,
      "metadata": {},
      "outputs": [
        {
          "name": "stdout",
          "output_type": "stream",
          "text": [
            "4.390466787167005\n"
          ]
        }
      ],
      "source": [
        "# 将科目A的成绩视为离散随机变量，计算它的熵（可以用numpy的log函数）\n",
        "\n",
        "import numpy as np\n",
        "\n",
        "course_A = data[data['科目'] == 'A']['成绩']\n",
        "course_A_count = course_A.value_counts()\n",
        "course_A_p = course_A_count / course_A_count.sum()\n",
        "course_A_entropy = -np.sum(course_A_p * np.log2(course_A_p))\n",
        "print(course_A_entropy)"
      ]
    },
    {
      "cell_type": "code",
      "execution_count": 162,
      "metadata": {},
      "outputs": [
        {
          "data": {
            "image/png": "[encoded data removed]",
            "text/plain": [
              "<Figure size 1000x500 with 6 Axes>"
            ]
          },
          "metadata": {},
          "output_type": "display_data"
        }
      ],
      "source": [
        "# 绘制每门课的成绩直方图，要求如下\n",
        "# - 使用子图，布局为2行3列\n",
        "# - 每个子图的标题为课程名称，x轴标题为\"Score\"，y轴标题为\"Count\"\n",
        "# - 直方图x轴范围是0~100，分成20个柱子；y轴范围是0~30\n",
        "# - 显示网格\n",
        "# - 整体尺寸为 高5 宽10\n",
        "\n",
        "fig, axes = plt.subplots(2, 3, figsize=(10, 5))\n",
        "for i, (course, group) in enumerate(data.groupby('科目')):\n",
        "    ax = axes[i // 3, i % 3]\n",
        "    group['成绩'].plot(kind='hist', bins=20, range=(0, 100), ax=ax, title=course, grid=True)\n",
        "    ax.set_xlabel('Score')\n",
        "    ax.set_ylabel('Count')\n",
        "plt.tight_layout()\n",
        "plt.show()"
      ]
    },
    {
      "cell_type": "code",
      "execution_count": 163,
      "metadata": {},
      "outputs": [
        {
          "name": "stdout",
          "output_type": "stream",
          "text": [
            "41\n",
            "科目            A           B         C           D           E\n",
            "科目                                                           \n",
            "A   1235.575610   45.140244   -13.400  -15.884146   97.470122\n",
            "B     45.140244  412.756098    20.475    9.246341  -56.096951\n",
            "C    -13.400000   20.475000  1093.400  -17.275000   89.950000\n",
            "D    -15.884146    9.246341   -17.275  701.962195  -62.301829\n",
            "E     97.470122  -56.096951    89.950  -62.301829  989.989024\n"
          ]
        },
        {
          "data": {
            "image/png": "[encoded data removed]",
            "text/plain": [
              "<Figure size 640x480 with 2 Axes>"
            ]
          },
          "metadata": {},
          "output_type": "display_data"
        }
      ],
      "source": [
        "# 筛选出参加了全部科目考试的学生\n",
        "# 1. 输出学生数目\n",
        "# 2. 以他们的成绩计算这5门科目的协方差矩阵，print出来\n",
        "# 3. 使用imshow绘图展示协方差矩阵，在x轴和y轴标记科目名称，显示colorbar\n",
        "\n",
        "student_all_courses = data.groupby('学号').filter(lambda x: x['科目'].nunique() == 5)\n",
        "print(student_all_courses['学号'].nunique())\n",
        "student_all_courses_cov = student_all_courses.pivot(index='学号', columns='科目', values='成绩').cov()\n",
        "print(student_all_courses_cov)\n",
        "plt.imshow(student_all_courses_cov, cmap='viridis')\n",
        "plt.colorbar()\n",
        "plt.xticks(range(5), student_all_courses_cov.columns)\n",
        "plt.yticks(range(5), student_all_courses_cov.columns)\n",
        "plt.show()"
      ]
    }
  ],
  "metadata": {
    "kernelspec": {
      "display_name": "Python 3",
      "language": "python",
      "name": "python3"
    },
    "language_info": {
      "codemirror_mode": {
        "name": "ipython",
        "version": 3
      },
      "file_extension": ".py",
      "mimetype": "text/x-python",
      "name": "python",
      "nbconvert_exporter": "python",
      "pygments_lexer": "ipython3",
      "version": "3.12.0"
    }
  },
  "nbformat": 4,
  "nbformat_minor": 2
}
